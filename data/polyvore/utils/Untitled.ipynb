{
 "cells": [
  {
   "cell_type": "code",
   "execution_count": 4,
   "id": "85685046-e3ad-45cc-a521-48c8e9de56c6",
   "metadata": {},
   "outputs": [],
   "source": [
    "with open(r\"C:\\Users\\Software\\Downloads\\polyvore-images\\jsons\\train_no_dup.json\") as f:\n",
    "    json_data = json.load(f)"
   ]
  },
  {
   "cell_type": "code",
   "execution_count": 20,
   "id": "aa5addfc-5778-4c0a-8c3a-d3c30650b3a0",
   "metadata": {},
   "outputs": [
    {
     "name": "stdout",
     "output_type": "stream",
     "text": [
      "194508109\n"
     ]
    }
   ],
   "source": [
    "for outfit in json_data:\n",
    "    outfit_ids = set()\n",
    "    for item in outfit['items']:\n",
    "        # get id from the image url\n",
    "        _, id = item['image'].split('id=')\n",
    "        id = int(id)\n",
    "        outfit_ids.add(id)\n",
    "        #cat_dict[id] = item['categoryid']\n",
    "        map_id2their[id] = '{}_{}'.format(outfit['set_id'], item['index'])\n",
    "        break\n",
    "\n",
    "    for id in outfit_ids:\n",
    "        print(id)\n",
    "        if id not in relations:\n",
    "            relations[id] = set()\n",
    "            img_feats = feat_dict[str(id)] \n",
    "    break\n",
    "\n",
    "\n"
   ]
  },
  {
   "cell_type": "code",
   "execution_count": 23,
   "id": "9a1106eb-effa-4719-8ed3-690fa37be4c3",
   "metadata": {},
   "outputs": [
    {
     "data": {
      "text/plain": [
       "{}"
      ]
     },
     "execution_count": 23,
     "metadata": {},
     "output_type": "execute_result"
    }
   ],
   "source": [
    "relations"
   ]
  },
  {
   "cell_type": "code",
   "execution_count": 26,
   "id": "3b5cee4c-d55e-436b-b18b-9b847dabafe7",
   "metadata": {},
   "outputs": [],
   "source": [
    "map_id2their = {}\n",
    "relations = {}\n",
    "import os"
   ]
  },
  {
   "cell_type": "code",
   "execution_count": 29,
   "id": "da058a88-1fe5-45ad-916f-5e45ef466dc3",
   "metadata": {},
   "outputs": [],
   "source": [
    "import pickle as pkl\n",
    "feat_pkl = r\"C:\\Users\\Software\\Downloads\\polyvore-images\\dataset\\imgs_featdict_train.pkl\"\n",
    "if os.path.exists(feat_pkl):\n",
    "    with open(r\"C:\\Users\\Software\\Downloads\\polyvore-images\\dataset\\imgs_featdict_train.pkl\", 'rb') as handle:\n",
    "        feat_dict = pkl.load(handle)"
   ]
  },
  {
   "cell_type": "code",
   "execution_count": 32,
   "id": "79f695e9-a919-44e9-b0cb-9d9f522d75e9",
   "metadata": {},
   "outputs": [
    {
     "ename": "KeyError",
     "evalue": "'129568165'",
     "output_type": "error",
     "traceback": [
      "\u001b[1;31m---------------------------------------------------------------------------\u001b[0m",
      "\u001b[1;31mKeyError\u001b[0m                                  Traceback (most recent call last)",
      "Cell \u001b[1;32mIn[32], line 1\u001b[0m\n\u001b[1;32m----> 1\u001b[0m \u001b[43mfeat_dict\u001b[49m\u001b[43m[\u001b[49m\u001b[38;5;124;43m'\u001b[39;49m\u001b[38;5;124;43m129568165\u001b[39;49m\u001b[38;5;124;43m'\u001b[39;49m\u001b[43m]\u001b[49m\n",
      "\u001b[1;31mKeyError\u001b[0m: '129568165'"
     ]
    }
   ],
   "source": [
    "feat_dict['129568165']"
   ]
  },
  {
   "cell_type": "code",
   "execution_count": null,
   "id": "7cae161c-fe2c-454d-9f7e-7614163d6c2e",
   "metadata": {},
   "outputs": [],
   "source": []
  }
 ],
 "metadata": {
  "kernelspec": {
   "display_name": "Python 3 (ipykernel)",
   "language": "python",
   "name": "python3"
  },
  "language_info": {
   "codemirror_mode": {
    "name": "ipython",
    "version": 3
   },
   "file_extension": ".py",
   "mimetype": "text/x-python",
   "name": "python",
   "nbconvert_exporter": "python",
   "pygments_lexer": "ipython3",
   "version": "3.10.11"
  }
 },
 "nbformat": 4,
 "nbformat_minor": 5
}
